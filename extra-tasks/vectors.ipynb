{
 "cells": [
  {
   "metadata": {},
   "cell_type": "markdown",
   "source": "<h3>First task</h3>",
   "id": "397a025e21e9fe85"
  },
  {
   "metadata": {
    "ExecuteTime": {
     "end_time": "2024-09-11T08:55:35.651115Z",
     "start_time": "2024-09-11T08:55:35.644969Z"
    }
   },
   "cell_type": "code",
   "source": [
    "from typing import Optional\n",
    "\n",
    "import numpy as np\n",
    "\n",
    "\n",
    "def max_with_previous_zero(arr) -> Optional[np.int64]:\n",
    "    return None if 0 not in arr else np.where(arr[:-1] == 0, arr[1:], 0).max()\n",
    "\n",
    "\n",
    "x = np.array([0, 6, 2, 0, 3, 1, 1, 5, 7, 1])\n",
    "print(max_with_previous_zero(x))"
   ],
   "id": "f76abf27be8f8839",
   "outputs": [
    {
     "name": "stdout",
     "output_type": "stream",
     "text": [
      "6\n"
     ]
    }
   ],
   "execution_count": 41
  },
  {
   "metadata": {},
   "cell_type": "markdown",
   "source": "<h3>Second task</h3>",
   "id": "a7137e12c5948086"
  },
  {
   "metadata": {
    "ExecuteTime": {
     "end_time": "2024-09-11T08:55:37.317653Z",
     "start_time": "2024-09-11T08:55:37.311311Z"
    }
   },
   "cell_type": "code",
   "source": [
    "import numpy as np\n",
    "\n",
    "\n",
    "def get_closest(matrix: np.ndarray, v):\n",
    "    one_d_index = np.abs(matrix - v).argmin()\n",
    "    return matrix.flatten()[one_d_index]\n",
    "\n",
    "\n",
    "x = np.arange(10).reshape(2, 5)\n",
    "print(get_closest(x, 3.4))"
   ],
   "id": "6af81c989d6a2166",
   "outputs": [
    {
     "name": "stdout",
     "output_type": "stream",
     "text": [
      "3\n"
     ]
    }
   ],
   "execution_count": 42
  },
  {
   "metadata": {},
   "cell_type": "markdown",
   "source": "<h3>Third task</h3>",
   "id": "1d17e0dd1d8714cf"
  },
  {
   "metadata": {
    "ExecuteTime": {
     "end_time": "2024-09-11T11:17:17.799942Z",
     "start_time": "2024-09-11T11:17:17.794253Z"
    }
   },
   "cell_type": "code",
   "source": [
    "import numpy as np\n",
    "\n",
    "\n",
    "def divide_columns_by_column_max(matrix: np.matrix) -> np.ndarray:\n",
    "    column_max_values = matrix.max(axis=0)\n",
    "    if 0 in column_max_values:\n",
    "        raise ZeroDivisionError()\n",
    "    return matrix / column_max_values\n",
    "\n",
    "\n",
    "x = np.array([[2, 0, 2, 0, 3],\n",
    "              [1, 1, 5, 7, 1]])\n",
    "print(divide_columns_by_column_max(x))"
   ],
   "id": "3cdb2c62ddde3232",
   "outputs": [
    {
     "name": "stdout",
     "output_type": "stream",
     "text": [
      "[[1.         0.         0.4        0.         1.        ]\n",
      " [0.5        1.         1.         1.         0.33333333]]\n"
     ]
    }
   ],
   "execution_count": 9
  }
 ],
 "metadata": {
  "kernelspec": {
   "display_name": "Python 3",
   "language": "python",
   "name": "python3"
  },
  "language_info": {
   "codemirror_mode": {
    "name": "ipython",
    "version": 2
   },
   "file_extension": ".py",
   "mimetype": "text/x-python",
   "name": "python",
   "nbconvert_exporter": "python",
   "pygments_lexer": "ipython2",
   "version": "2.7.6"
  }
 },
 "nbformat": 4,
 "nbformat_minor": 5
}
